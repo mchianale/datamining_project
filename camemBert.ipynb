{
  "cells": [
    {
      "cell_type": "code",
      "execution_count": 1,
      "metadata": {
        "id": "0LI217XGxn-G"
      },
      "outputs": [],
      "source": [
        "# Importing standard libraries for every machine/deep learning pipeline\n",
        "import pandas as pd\n",
        "import torch\n",
        "from tqdm import tqdm, trange\n",
        "import numpy as np\n",
        "\n",
        "# Importing specific libraries for data prerpcessing, model archtecture choice, training and evaluation\n",
        "from torch.utils.data import TensorDataset, DataLoader, RandomSampler, SequentialSampler\n",
        "from transformers import CamembertTokenizer, CamembertForSequenceClassification\n",
        "from transformers import AdamW\n",
        "import sentencepiece"
      ]
    },
    {
      "cell_type": "code",
      "execution_count": 2,
      "metadata": {
        "colab": {
          "base_uri": "https://localhost:8080/"
        },
        "id": "KZyx4rZuxn-H",
        "outputId": "cff1a862-8c4a-4b64-8d21-24c46cab2df2"
      },
      "outputs": [
        {
          "name": "stdout",
          "output_type": "stream",
          "text": [
            "cuda\n"
          ]
        }
      ],
      "source": [
        "# Defining constants\n",
        "MAX_LEN = 256 # i.e le max supproter par BERT (par heritage) is 512ne\n",
        "batch_size = 16\n",
        "device = torch.device('cuda' if torch.cuda.is_available() else 'cpu') # GPU T4 google drive\n",
        "print(device)"
      ]
    },
    {
      "cell_type": "markdown",
      "metadata": {
        "id": "pRcPAk13xn-H"
      },
      "source": [
        "# Chargement des données"
      ]
    },
    {
      "cell_type": "code",
      "execution_count": 3,
      "metadata": {
        "id": "Zw-Eajjoxn-H"
      },
      "outputs": [],
      "source": [
        "data = {\n",
        "    'train' : None,\n",
        "    'val' : None,\n",
        "    'test' : None\n",
        "}\n",
        "for df_name in data.keys():\n",
        "    data[df_name] = pd.read_csv(f\"{df_name}.csv\", sep='~')"
      ]
    },
    {
      "cell_type": "markdown",
      "metadata": {
        "id": "IJnSEbGSxn-I"
      },
      "source": [
        "# Encoding"
      ]
    },
    {
      "cell_type": "code",
      "execution_count": 4,
      "metadata": {
        "colab": {
          "base_uri": "https://localhost:8080/"
        },
        "id": "VmR_woduxn-I",
        "outputId": "150ea0bf-8de1-4a00-88f2-0e838cab19fb"
      },
      "outputs": [
        {
          "name": "stderr",
          "output_type": "stream",
          "text": [
            "/usr/local/lib/python3.11/dist-packages/huggingface_hub/utils/_auth.py:94: UserWarning: \n",
            "The secret `HF_TOKEN` does not exist in your Colab secrets.\n",
            "To authenticate with the Hugging Face Hub, create a token in your settings tab (https://huggingface.co/settings/tokens), set it as secret in your Google Colab and restart your session.\n",
            "You will be able to reuse this secret in all of your notebooks.\n",
            "Please note that authentication is recommended but still optional to access public models or datasets.\n",
            "  warnings.warn(\n"
          ]
        },
        {
          "name": "stdout",
          "output_type": "stream",
          "text": [
            "Pad id 1\n"
          ]
        }
      ],
      "source": [
        "# Load Camembert tokenizer\n",
        "tokenizer = CamembertTokenizer.from_pretrained(\"camembert-base\")\n",
        "pad_id = tokenizer.convert_tokens_to_ids(tokenizer.pad_token)\n",
        "print('Pad id', pad_id)\n"
      ]
    },
    {
      "cell_type": "code",
      "execution_count": 5,
      "metadata": {
        "id": "e5PpxQSIxn-I"
      },
      "outputs": [],
      "source": [
        "def encode(text : str)->list:\n",
        "    input_id = tokenizer.encode(text, add_special_tokens=True,max_length=MAX_LEN-2, truncation=True)\n",
        "    # padding\n",
        "    input_id += [pad_id for _ in range(MAX_LEN-len(input_id))]\n",
        "    return input_id\n",
        "\n",
        "def get_attention_masks(input_id : list)->list:\n",
        "    return [1 if id_ != pad_id else 0 for id_ in input_id]"
      ]
    },
    {
      "cell_type": "code",
      "execution_count": 6,
      "metadata": {
        "id": "qoBHnWroxn-I"
      },
      "outputs": [],
      "source": [
        "def create_inputs(df : pd.DataFrame)->TensorDataset:\n",
        "    input_ids = [encode(df['contenu'].iloc[i]) for i in range(df.shape[0])]\n",
        "    attention_masks = [get_attention_masks(input_id) for input_id in input_ids]\n",
        "    labels = list(df['sentiment'])\n",
        "\n",
        "    input_ids = torch.tensor(input_ids)\n",
        "    attention_masks = torch.tensor(attention_masks)\n",
        "    labels = torch.tensor(labels)\n",
        "    return TensorDataset(input_ids, attention_masks, labels)"
      ]
    },
    {
      "cell_type": "markdown",
      "metadata": {
        "id": "L3ZwBAXPxn-J"
      },
      "source": [
        "# Create Dataset"
      ]
    },
    {
      "cell_type": "code",
      "execution_count": 7,
      "metadata": {
        "id": "aGENUmu2xn-J"
      },
      "outputs": [],
      "source": [
        "# train\n",
        "train_data = create_inputs(data['train'])\n",
        "train_sampler = RandomSampler(train_data)\n",
        "train_dataloader = DataLoader(train_data, sampler=train_sampler, batch_size=batch_size)"
      ]
    },
    {
      "cell_type": "code",
      "execution_count": 8,
      "metadata": {
        "id": "x_0tlQ0wxn-J"
      },
      "outputs": [],
      "source": [
        "# val\n",
        "validation_data = create_inputs(data['val'])\n",
        "validation_sampler = SequentialSampler(validation_data)\n",
        "validation_dataloader = DataLoader(validation_data, sampler=validation_sampler, batch_size=batch_size)\n",
        "# test on fera plus tard pour par trop surcharge"
      ]
    },
    {
      "cell_type": "markdown",
      "metadata": {
        "id": "0NimE_kMxn-J"
      },
      "source": [
        "# Le model CamemBert"
      ]
    },
    {
      "cell_type": "code",
      "execution_count": 9,
      "metadata": {
        "colab": {
          "base_uri": "https://localhost:8080/"
        },
        "id": "V-AeTFyzxn-J",
        "outputId": "6fd2f018-3ed5-461a-de45-ae163215634b"
      },
      "outputs": [
        {
          "name": "stderr",
          "output_type": "stream",
          "text": [
            "Some weights of CamembertForSequenceClassification were not initialized from the model checkpoint at camembert-base and are newly initialized: ['classifier.dense.bias', 'classifier.dense.weight', 'classifier.out_proj.bias', 'classifier.out_proj.weight']\n",
            "You should probably TRAIN this model on a down-stream task to be able to use it for predictions and inference.\n",
            "Some weights of CamembertForSequenceClassification were not initialized from the model checkpoint at camembert-base and are newly initialized: ['classifier.dense.bias', 'classifier.dense.weight', 'classifier.out_proj.bias', 'classifier.out_proj.weight']\n",
            "You should probably TRAIN this model on a down-stream task to be able to use it for predictions and inference.\n"
          ]
        },
        {
          "data": {
            "text/plain": [
              "CamembertForSequenceClassification(\n",
              "  (roberta): CamembertModel(\n",
              "    (embeddings): CamembertEmbeddings(\n",
              "      (word_embeddings): Embedding(32005, 768, padding_idx=1)\n",
              "      (position_embeddings): Embedding(514, 768, padding_idx=1)\n",
              "      (token_type_embeddings): Embedding(1, 768)\n",
              "      (LayerNorm): LayerNorm((768,), eps=1e-05, elementwise_affine=True)\n",
              "      (dropout): Dropout(p=0.1, inplace=False)\n",
              "    )\n",
              "    (encoder): CamembertEncoder(\n",
              "      (layer): ModuleList(\n",
              "        (0-11): 12 x CamembertLayer(\n",
              "          (attention): CamembertAttention(\n",
              "            (self): CamembertSdpaSelfAttention(\n",
              "              (query): Linear(in_features=768, out_features=768, bias=True)\n",
              "              (key): Linear(in_features=768, out_features=768, bias=True)\n",
              "              (value): Linear(in_features=768, out_features=768, bias=True)\n",
              "              (dropout): Dropout(p=0.1, inplace=False)\n",
              "            )\n",
              "            (output): CamembertSelfOutput(\n",
              "              (dense): Linear(in_features=768, out_features=768, bias=True)\n",
              "              (LayerNorm): LayerNorm((768,), eps=1e-05, elementwise_affine=True)\n",
              "              (dropout): Dropout(p=0.1, inplace=False)\n",
              "            )\n",
              "          )\n",
              "          (intermediate): CamembertIntermediate(\n",
              "            (dense): Linear(in_features=768, out_features=3072, bias=True)\n",
              "            (intermediate_act_fn): GELUActivation()\n",
              "          )\n",
              "          (output): CamembertOutput(\n",
              "            (dense): Linear(in_features=3072, out_features=768, bias=True)\n",
              "            (LayerNorm): LayerNorm((768,), eps=1e-05, elementwise_affine=True)\n",
              "            (dropout): Dropout(p=0.1, inplace=False)\n",
              "          )\n",
              "        )\n",
              "      )\n",
              "    )\n",
              "  )\n",
              "  (classifier): CamembertClassificationHead(\n",
              "    (dense): Linear(in_features=768, out_features=768, bias=True)\n",
              "    (dropout): Dropout(p=0.1, inplace=False)\n",
              "    (out_proj): Linear(in_features=768, out_features=2, bias=True)\n",
              "  )\n",
              ")"
            ]
          },
          "execution_count": 9,
          "metadata": {},
          "output_type": "execute_result"
        }
      ],
      "source": [
        "# Load BertForSequenceClassification, the pretrained BERT model with a single linear classification layer on top.\n",
        "model = CamembertForSequenceClassification.from_pretrained(\"camembert-base\", num_labels=2)\n",
        "# init mal les poids, force a les isntancier\n",
        "state_dict = CamembertForSequenceClassification.from_pretrained(\"camembert-base\").state_dict()\n",
        "model.load_state_dict(state_dict)\n",
        "model.to(device)"
      ]
    },
    {
      "cell_type": "markdown",
      "metadata": {
        "id": "jHYERwWSxn-J"
      },
      "source": [
        "# Les paramètres"
      ]
    },
    {
      "cell_type": "code",
      "execution_count": 10,
      "metadata": {
        "colab": {
          "base_uri": "https://localhost:8080/"
        },
        "id": "Ru83BqPOxn-K",
        "outputId": "9be3e69e-b396-4972-de53-773663a7b694"
      },
      "outputs": [
        {
          "name": "stderr",
          "output_type": "stream",
          "text": [
            "/usr/local/lib/python3.11/dist-packages/transformers/optimization.py:591: FutureWarning: This implementation of AdamW is deprecated and will be removed in a future version. Use the PyTorch implementation torch.optim.AdamW instead, or set `no_deprecation_warning=True` to disable this warning\n",
            "  warnings.warn(\n"
          ]
        }
      ],
      "source": [
        "param_optimizer = list(model.named_parameters())\n",
        "no_decay = ['bias', 'gamma', 'beta']\n",
        "optimizer_grouped_parameters = [\n",
        "    {'params': [p for n, p in param_optimizer if not any(nd in n for nd in no_decay)],\n",
        "     'weight_decay_rate': 0.01},\n",
        "    {'params': [p for n, p in param_optimizer if any(nd in n for nd in no_decay)],\n",
        "     'weight_decay_rate': 0.0}\n",
        "]\n",
        "\n",
        "optimizer = AdamW(optimizer_grouped_parameters, lr=2e-5, eps=10e-8)\n",
        "\n",
        "# Function to calculate the accuracy of our predictions vs labels\n",
        "def flat_accuracy(preds, labels):\n",
        "    pred_flat = np.argmax(preds, axis=1).flatten()\n",
        "    labels_flat = labels.flatten()\n",
        "    return np.sum(pred_flat == labels_flat) / len(labels_flat)"
      ]
    },
    {
      "cell_type": "markdown",
      "metadata": {
        "id": "2BnDx0g9xn-K"
      },
      "source": [
        "# Training"
      ]
    },
    {
      "cell_type": "code",
      "execution_count": 11,
      "metadata": {
        "id": "lySZBpVZxn-K"
      },
      "outputs": [],
      "source": [
        "epochs = 5"
      ]
    },
    {
      "cell_type": "code",
      "execution_count": 12,
      "metadata": {
        "colab": {
          "base_uri": "https://localhost:8080/"
        },
        "id": "2Mzh5CLJxn-K",
        "outputId": "cc135e42-4c7c-4442-b45b-26f71aae5afb"
      },
      "outputs": [
        {
          "name": "stderr",
          "output_type": "stream",
          "text": [
            "Training - epoch 0, 498 batchs: 498it [05:16,  1.58it/s]\n"
          ]
        },
        {
          "name": "stdout",
          "output_type": "stream",
          "text": [
            "Train loss: 0.30966796458186396\n"
          ]
        },
        {
          "name": "stderr",
          "output_type": "stream",
          "text": [
            "Validation - epoch 0, 166 batchs: 100%|██████████| 166/166 [00:32<00:00,  5.15it/s]\n"
          ]
        },
        {
          "name": "stdout",
          "output_type": "stream",
          "text": [
            "Validation Accuracy: 0.9051204819277109\n"
          ]
        },
        {
          "name": "stderr",
          "output_type": "stream",
          "text": [
            "Training - epoch 1, 498 batchs: 498it [05:21,  1.55it/s]\n"
          ]
        },
        {
          "name": "stdout",
          "output_type": "stream",
          "text": [
            "Train loss: 0.1781922933462274\n"
          ]
        },
        {
          "name": "stderr",
          "output_type": "stream",
          "text": [
            "Validation - epoch 1, 166 batchs: 100%|██████████| 166/166 [00:32<00:00,  5.15it/s]\n"
          ]
        },
        {
          "name": "stdout",
          "output_type": "stream",
          "text": [
            "Validation Accuracy: 0.9058734939759037\n"
          ]
        },
        {
          "name": "stderr",
          "output_type": "stream",
          "text": [
            "Training - epoch 2, 498 batchs: 498it [05:22,  1.55it/s]\n"
          ]
        },
        {
          "name": "stdout",
          "output_type": "stream",
          "text": [
            "Train loss: 0.11258754691008074\n"
          ]
        },
        {
          "name": "stderr",
          "output_type": "stream",
          "text": [
            "Validation - epoch 2, 166 batchs: 100%|██████████| 166/166 [00:32<00:00,  5.17it/s]\n"
          ]
        },
        {
          "name": "stdout",
          "output_type": "stream",
          "text": [
            "Validation Accuracy: 0.9051204819277109\n"
          ]
        },
        {
          "name": "stderr",
          "output_type": "stream",
          "text": [
            "Training - epoch 3, 498 batchs: 498it [05:21,  1.55it/s]\n"
          ]
        },
        {
          "name": "stdout",
          "output_type": "stream",
          "text": [
            "Train loss: 0.06840340875044286\n"
          ]
        },
        {
          "name": "stderr",
          "output_type": "stream",
          "text": [
            "Validation - epoch 3, 166 batchs: 100%|██████████| 166/166 [00:32<00:00,  5.15it/s]\n"
          ]
        },
        {
          "name": "stdout",
          "output_type": "stream",
          "text": [
            "Validation Accuracy: 0.9002259036144579\n"
          ]
        },
        {
          "name": "stderr",
          "output_type": "stream",
          "text": [
            "Training - epoch 4, 498 batchs: 498it [05:21,  1.55it/s]\n"
          ]
        },
        {
          "name": "stdout",
          "output_type": "stream",
          "text": [
            "Train loss: 0.05075367429736912\n"
          ]
        },
        {
          "name": "stderr",
          "output_type": "stream",
          "text": [
            "Validation - epoch 4, 166 batchs: 100%|██████████| 166/166 [00:32<00:00,  5.16it/s]"
          ]
        },
        {
          "name": "stdout",
          "output_type": "stream",
          "text": [
            "Validation Accuracy: 0.8900602409638554\n"
          ]
        },
        {
          "name": "stderr",
          "output_type": "stream",
          "text": [
            "\n"
          ]
        }
      ],
      "source": [
        "# Store our loss and accuracy for plotting if we want to visualize training evolution per epochs after the training process\n",
        "train_loss_set = []\n",
        "train_scores, test_scores = [], [] # loss\n",
        "# trange is a tqdm wrapper around the normal python range\n",
        "for e in range(epochs):\n",
        "    # Tracking variables for training\n",
        "    tr_loss = 0\n",
        "    nb_tr_examples, nb_tr_steps = 0, 0\n",
        "\n",
        "    # Train the model\n",
        "    model.train()\n",
        "    for step, batch in tqdm(enumerate(train_dataloader), desc=f\"Training - epoch {e}, {len(train_dataloader)} batchs\"):\n",
        "        # Add batch to device CPU or GPU\n",
        "        batch = tuple(t.to(device) for t in batch)\n",
        "        # Unpack the inputs from our dataloader\n",
        "        b_input_ids, b_input_mask, b_labels = batch\n",
        "        # Clear out the gradients (by default they accumulate)\n",
        "        optimizer.zero_grad()\n",
        "        # Forward pass\n",
        "        outputs = model(b_input_ids,token_type_ids=None, attention_mask=b_input_mask, labels=b_labels)\n",
        "        # Get loss value\n",
        "        loss = outputs[0]\n",
        "        # Add it to train loss list\n",
        "        train_loss_set.append(loss.item())\n",
        "        # Backward pass\n",
        "        loss.backward()\n",
        "        # Update parameters and take a step using the computed gradient\n",
        "        optimizer.step()\n",
        "\n",
        "        # Update tracking variables\n",
        "        tr_loss += loss.item()\n",
        "        nb_tr_examples += b_input_ids.size(0)\n",
        "        nb_tr_steps += 1\n",
        "\n",
        "    print(\"Train loss: {}\".format(tr_loss/nb_tr_steps))\n",
        "    train_scores.append(tr_loss/nb_tr_steps)\n",
        "\n",
        "\n",
        "    # Tracking variables for validation\n",
        "    eval_loss, eval_accuracy = 0, 0\n",
        "    nb_eval_steps, nb_eval_examples = 0, 0\n",
        "    # Validation of the model\n",
        "    model.eval()\n",
        "    # Evaluate data for one epoch\n",
        "    for batch in tqdm(validation_dataloader,  desc=f\"Validation - epoch {e}, {len(validation_dataloader)} batchs\"):\n",
        "        # Add batch to device CPU or GPU\n",
        "        batch = tuple(t.to(device) for t in batch)\n",
        "        # Unpack the inputs from our dataloader\n",
        "        b_input_ids, b_input_mask, b_labels = batch\n",
        "        # Telling the model not to compute or store gradients, saving memory and speeding up validation\n",
        "        with torch.no_grad():\n",
        "            # Forward pass, calculate logit predictions\n",
        "            outputs =  model(b_input_ids,token_type_ids=None, attention_mask=b_input_mask, labels=b_labels)\n",
        "            loss, logits = outputs[:2]\n",
        "            eval_loss += loss\n",
        "\n",
        "        # Move logits and labels to CPU if GPU is used\n",
        "        logits = logits.detach().cpu().numpy()\n",
        "        label_ids = b_labels.to('cpu').numpy()\n",
        "\n",
        "        tmp_eval_accuracy = flat_accuracy(logits, label_ids)\n",
        "\n",
        "        eval_accuracy += tmp_eval_accuracy\n",
        "        nb_eval_steps += 1\n",
        "\n",
        "    print(\"Validation Accuracy: {}\".format(eval_accuracy/nb_eval_steps))\n",
        "\n",
        "    test_scores.append(eval_loss/nb_eval_steps)"
      ]
    },
    {
      "cell_type": "code",
      "execution_count": 13,
      "metadata": {
        "id": "iG_Uc2hhxn-K"
      },
      "outputs": [],
      "source": [
        "import matplotlib.pyplot as plt\n",
        "def plot_learning_curves(epochs, train_scores, test_scores, figsize=(10,7), fontsize=14):\n",
        "    train_scores = np.array(train_scores) # loss\n",
        "    test_scores = np.array(test_scores)\n",
        "\n",
        "    fig = plt.figure(figsize=figsize)\n",
        "\n",
        "    # Draw lines\n",
        "    plt.plot(epochs, train_scores, '--', color=\"r\",  label=\"Training loss\")\n",
        "    plt.plot(epochs, test_scores, color=\"g\", label=\"Validation loss\")\n",
        "\n",
        "\n",
        "    # Create plot\n",
        "    plt.title(\"Learning Curve\")\n",
        "    plt.xlabel(\"epochs\")\n",
        "    plt.ylabel(\"Loss\")\n",
        "    plt.legend(loc=\"lower right\")\n",
        "\n",
        "    return fig"
      ]
    },
    {
      "cell_type": "code",
      "execution_count": 24,
      "metadata": {
        "id": "XKzUdzBy6suI"
      },
      "outputs": [],
      "source": [
        "train_scores = [float(s) for s in train_scores]\n",
        "test_scores = [float(s)/len(validation_dataloader) for s in test_scores]"
      ]
    },
    {
      "cell_type": "code",
      "execution_count": 27,
      "metadata": {
        "colab": {
          "base_uri": "https://localhost:8080/",
          "height": 707
        },
        "id": "Es87e-YYxn-K",
        "outputId": "bc4da8cf-b1dd-4ceb-c9f3-074495303250"
      },
      "outputs": [
        {
          "data": {
            "image/png": "[encoded data removed]",
            "text/plain": [
              "<Figure size 1000x700 with 1 Axes>"
            ]
          },
          "metadata": {},
          "output_type": "display_data"
        }
      ],
      "source": [
        "import seaborn as sns\n",
        "fig = plot_learning_curves(range(epochs), train_scores, test_scores)\n",
        "sns.despine(bottom=True)\n",
        "plt.tight_layout(h_pad=2)"
      ]
    },
    {
      "cell_type": "markdown",
      "metadata": {
        "id": "cZU7wdxn72Jy"
      },
      "source": [
        "# Test et Save"
      ]
    },
    {
      "cell_type": "markdown",
      "metadata": {
        "id": "O_seYzznAbR7"
      },
      "source": [
        "## Save"
      ]
    },
    {
      "cell_type": "code",
      "execution_count": 28,
      "metadata": {
        "id": "QkfXoNu-6nGj"
      },
      "outputs": [],
      "source": [
        "# Save the model\n",
        "model.save_pretrained(\"camembert\")"
      ]
    },
    {
      "cell_type": "markdown",
      "metadata": {
        "id": "2MQ93jD9Adxz"
      },
      "source": [
        "## Test"
      ]
    },
    {
      "cell_type": "code",
      "execution_count": 52,
      "metadata": {
        "id": "qJapnpRQ_BSN"
      },
      "outputs": [],
      "source": [
        "batch_size = 1"
      ]
    },
    {
      "cell_type": "code",
      "execution_count": 60,
      "metadata": {
        "id": "zqp6fzmZ8OY5"
      },
      "outputs": [],
      "source": [
        "# test\n",
        "test_data = create_inputs(data['test'])\n",
        "test_sampler = SequentialSampler(test_data)\n",
        "test_dataloader = DataLoader(test_data, sampler=test_sampler, batch_size=batch_size)"
      ]
    },
    {
      "cell_type": "code",
      "execution_count": 61,
      "metadata": {
        "colab": {
          "base_uri": "https://localhost:8080/"
        },
        "id": "ywqZnx3U88uI",
        "outputId": "245dde4f-5210-47ff-80ea-85ac31176818"
      },
      "outputs": [
        {
          "name": "stderr",
          "output_type": "stream",
          "text": [
            "Inference, 2654 batchs: 100%|██████████| 2654/2654 [00:44<00:00, 60.22it/s]\n"
          ]
        }
      ],
      "source": [
        "model.eval()\n",
        "flat_pred = []\n",
        "for batch in tqdm(test_dataloader,  desc=f\"Inference, {len(test_dataloader)} batchs\"):\n",
        "  # Add batch to device CPU or GPU\n",
        "  batch = tuple(t.to(device) for t in batch)\n",
        "  # Unpack the inputs from our dataloader\n",
        "  b_input_ids, b_input_mask, b_labels = batch\n",
        "  # Telling the model not to compute or store gradients, saving memory and speeding up validation\n",
        "  with torch.no_grad():\n",
        "      # Forward pass, calculate logit predictions\n",
        "      outputs =  model(b_input_ids,token_type_ids=None, attention_mask=b_input_mask)\n",
        "      logits = outputs[0]\n",
        "      logits = logits.detach().cpu().numpy()\n",
        "      flat_pred.extend(np.argmax(logits, axis=1).flatten())\n"
      ]
    },
    {
      "cell_type": "code",
      "execution_count": 62,
      "metadata": {
        "id": "uBNOaiAw_5Vd"
      },
      "outputs": [],
      "source": [
        "map_sentiments = {\n",
        "    0 : 'negatif',\n",
        "    1 : 'positif'\n",
        "}"
      ]
    },
    {
      "cell_type": "code",
      "execution_count": 63,
      "metadata": {
        "colab": {
          "base_uri": "https://localhost:8080/"
        },
        "id": "No7BecQA_YbV",
        "outputId": "9aa6792e-9061-4aef-dd62-04acde5a11cc"
      },
      "outputs": [
        {
          "name": "stdout",
          "output_type": "stream",
          "text": [
            "Test Accuracy: 89.56\n",
            "Test F1-Score: 90.53\n",
            "              precision    recall  f1-score   support\n",
            "\n",
            "     negatif       0.85      0.93      0.88      1138\n",
            "     positif       0.94      0.87      0.91      1516\n",
            "\n",
            "    accuracy                           0.90      2654\n",
            "   macro avg       0.89      0.90      0.89      2654\n",
            "weighted avg       0.90      0.90      0.90      2654\n",
            "\n"
          ]
        }
      ],
      "source": [
        "from sklearn import metrics\n",
        "from sklearn.metrics import confusion_matrix\n",
        "\n",
        "y_pred = np.array(flat_pred)\n",
        "y_test = np.array(data['test']['sentiment'])\n",
        "\n",
        "print(\"Test Accuracy: {:.2f}\".format(100 * metrics.accuracy_score(y_test, y_pred)))\n",
        "print(\"Test F1-Score: {:.2f}\".format(100 * metrics.f1_score(y_test, y_pred)))\n",
        "\n",
        "report = metrics.classification_report(\n",
        "    y_test, y_pred,\n",
        "    target_names=map_sentiments.values()\n",
        ")\n",
        "print(report)"
      ]
    },
    {
      "cell_type": "code",
      "execution_count": 64,
      "metadata": {
        "colab": {
          "base_uri": "https://localhost:8080/",
          "height": 564
        },
        "id": "N25dlJRo-9yc",
        "outputId": "2e9d1a7a-a657-4d3d-f43a-dee7fa2f4fc6"
      },
      "outputs": [
        {
          "data": {
            "image/png": "[encoded data removed]",
            "text/plain": [
              "<Figure size 800x600 with 2 Axes>"
            ]
          },
          "metadata": {},
          "output_type": "display_data"
        }
      ],
      "source": [
        "conf_mx = confusion_matrix(y_test, y_pred)\n",
        "plt.figure(figsize=(8, 6))\n",
        "sns.heatmap(conf_mx, annot=True, fmt='d', cmap='Blues', linewidths=0.5, linecolor='gray')\n",
        "\n",
        "# Labels and title\n",
        "plt.xlabel(\"Predicted Labels\")\n",
        "plt.ylabel(\"Actual Labels\")\n",
        "plt.title(\"Confusion Matrix\")\n",
        "plt.savefig('confusion_test.png')\n",
        "plt.show()"
      ]
    },
    {
      "cell_type": "markdown",
      "metadata": {
        "id": "gtOIyid8Afhd"
      },
      "source": [
        "## Temps d'éxecution"
      ]
    },
    {
      "cell_type": "code",
      "execution_count": 65,
      "metadata": {
        "colab": {
          "base_uri": "https://localhost:8080/"
        },
        "id": "DhHzeiUWAUDC",
        "outputId": "b5139a09-cf04-4144-c904-83cccc50e5a0"
      },
      "outputs": [
        {
          "data": {
            "text/plain": [
              "device(type='cpu')"
            ]
          },
          "execution_count": 65,
          "metadata": {},
          "output_type": "execute_result"
        }
      ],
      "source": [
        "device = torch.device('cpu') # meme config que pour tf-idf\n",
        "device"
      ]
    },
    {
      "cell_type": "code",
      "execution_count": 66,
      "metadata": {
        "colab": {
          "base_uri": "https://localhost:8080/"
        },
        "id": "-BjI-DI4Avja",
        "outputId": "dab3a819-c82f-4a33-c55e-1ee99aa427dd"
      },
      "outputs": [
        {
          "data": {
            "text/plain": [
              "CamembertForSequenceClassification(\n",
              "  (roberta): CamembertModel(\n",
              "    (embeddings): CamembertEmbeddings(\n",
              "      (word_embeddings): Embedding(32005, 768, padding_idx=1)\n",
              "      (position_embeddings): Embedding(514, 768, padding_idx=1)\n",
              "      (token_type_embeddings): Embedding(1, 768)\n",
              "      (LayerNorm): LayerNorm((768,), eps=1e-05, elementwise_affine=True)\n",
              "      (dropout): Dropout(p=0.1, inplace=False)\n",
              "    )\n",
              "    (encoder): CamembertEncoder(\n",
              "      (layer): ModuleList(\n",
              "        (0-11): 12 x CamembertLayer(\n",
              "          (attention): CamembertAttention(\n",
              "            (self): CamembertSdpaSelfAttention(\n",
              "              (query): Linear(in_features=768, out_features=768, bias=True)\n",
              "              (key): Linear(in_features=768, out_features=768, bias=True)\n",
              "              (value): Linear(in_features=768, out_features=768, bias=True)\n",
              "              (dropout): Dropout(p=0.1, inplace=False)\n",
              "            )\n",
              "            (output): CamembertSelfOutput(\n",
              "              (dense): Linear(in_features=768, out_features=768, bias=True)\n",
              "              (LayerNorm): LayerNorm((768,), eps=1e-05, elementwise_affine=True)\n",
              "              (dropout): Dropout(p=0.1, inplace=False)\n",
              "            )\n",
              "          )\n",
              "          (intermediate): CamembertIntermediate(\n",
              "            (dense): Linear(in_features=768, out_features=3072, bias=True)\n",
              "            (intermediate_act_fn): GELUActivation()\n",
              "          )\n",
              "          (output): CamembertOutput(\n",
              "            (dense): Linear(in_features=3072, out_features=768, bias=True)\n",
              "            (LayerNorm): LayerNorm((768,), eps=1e-05, elementwise_affine=True)\n",
              "            (dropout): Dropout(p=0.1, inplace=False)\n",
              "          )\n",
              "        )\n",
              "      )\n",
              "    )\n",
              "  )\n",
              "  (classifier): CamembertClassificationHead(\n",
              "    (dense): Linear(in_features=768, out_features=768, bias=True)\n",
              "    (dropout): Dropout(p=0.1, inplace=False)\n",
              "    (out_proj): Linear(in_features=768, out_features=2, bias=True)\n",
              "  )\n",
              ")"
            ]
          },
          "execution_count": 66,
          "metadata": {},
          "output_type": "execute_result"
        }
      ],
      "source": [
        "model.to(device)"
      ]
    },
    {
      "cell_type": "code",
      "execution_count": 67,
      "metadata": {
        "colab": {
          "base_uri": "https://localhost:8080/"
        },
        "id": "ti4MCvHWAkio",
        "outputId": "9303da58-cee1-4d8d-cf1b-afcb4a5752e9"
      },
      "outputs": [
        {
          "name": "stderr",
          "output_type": "stream",
          "text": [
            "Inference, 2654 batchs:  38%|███▊      | 999/2654 [12:40<20:59,  1.31it/s]\n"
          ]
        }
      ],
      "source": [
        "import time\n",
        "model.eval()\n",
        "flat_pred = []\n",
        "ex_times = []\n",
        "for batch in tqdm(test_dataloader,  desc=f\"Inference, {len(test_dataloader)} batchs\"):\n",
        "  # Add batch to device CPU or GPU\n",
        "  start = time.time()\n",
        "  batch = tuple(t.to(device) for t in batch)\n",
        "  # Unpack the inputs from our dataloader\n",
        "  b_input_ids, b_input_mask, b_labels = batch\n",
        "  # Telling the model not to compute or store gradients, saving memory and speeding up validation\n",
        "  with torch.no_grad():\n",
        "      # Forward pass, calculate logit predictions\n",
        "      outputs =  model(b_input_ids,token_type_ids=None, attention_mask=b_input_mask)\n",
        "      logits = outputs[0]\n",
        "      logits = logits.detach().cpu().numpy()\n",
        "      end = time.time()\n",
        "      ex_times.append(end-start)\n",
        "      flat_pred.extend(np.argmax(logits, axis=1).flatten())\n",
        "  if len(flat_pred) == 1000:\n",
        "    break"
      ]
    },
    {
      "cell_type": "code",
      "execution_count": 68,
      "metadata": {
        "id": "m6XIiJ8iA7_Q"
      },
      "outputs": [],
      "source": [
        "import pickle\n",
        "with open('camembert_times.pickle', 'wb') as writer:\n",
        "    pickle.dump(ex_times, writer)"
      ]
    },
    {
      "cell_type": "markdown",
      "metadata": {},
      "source": [
        "# Comparaison temps d'inférence entre TF-IDF classifier et Camembert"
      ]
    },
    {
      "cell_type": "code",
      "execution_count": 19,
      "metadata": {},
      "outputs": [
        {
          "name": "stderr",
          "output_type": "stream",
          "text": [
            "C:\\Users\\matte\\AppData\\Local\\Temp\\ipykernel_18028\\1679508828.py:4: FutureWarning: The frame.append method is deprecated and will be removed from pandas in a future version. Use pandas.concat instead.\n",
            "  df = df.append(\n",
            "C:\\Users\\matte\\AppData\\Local\\Temp\\ipykernel_18028\\1679508828.py:4: FutureWarning: The frame.append method is deprecated and will be removed from pandas in a future version. Use pandas.concat instead.\n",
            "  df = df.append(\n"
          ]
        }
      ],
      "source": [
        "def add_times_to_df(path, df, model_name):\n",
        "    with open(path, 'rb') as reader:\n",
        "        times = pickle.load(reader)\n",
        "        df = df.append(\n",
        "            pd.DataFrame([[model_name, 1000*time] for time in times], columns=[\"model\", \"times\"]),\n",
        "            ignore_index=True\n",
        "        )\n",
        "    return df\n",
        "\n",
        "time_data = pd.DataFrame()\n",
        "\n",
        "time_data = add_times_to_df(\n",
        "    'models/tf-idf/tfidf_times.pickle',\n",
        "    time_data, 'TF-IDF')\n",
        "\n",
        "time_data = add_times_to_df(\n",
        "    'models\\camembert\\camembert_times.pickle',\n",
        "    time_data, 'CamemBERT')"
      ]
    },
    {
      "cell_type": "code",
      "execution_count": 20,
      "metadata": {},
      "outputs": [
        {
          "name": "stderr",
          "output_type": "stream",
          "text": [
            "C:\\Users\\matte\\AppData\\Local\\Temp\\ipykernel_18028\\56006145.py:5: FutureWarning: \n",
            "\n",
            "The `ci` parameter is deprecated. Use `errorbar=None` for the same effect.\n",
            "\n",
            "  sns.barplot(x='model', y='times', data=time_data, ci=None) # capsize=.2)\n"
          ]
        },
        {
          "data": {
            "image/png": "[encoded data removed]",
            "text/plain": [
              "<Figure size 1000x700 with 1 Axes>"
            ]
          },
          "metadata": {},
          "output_type": "display_data"
        }
      ],
      "source": [
        "fig = plt.figure(figsize=(10,7))\n",
        "\n",
        "plt.figtext(.5, -0.05, 'Inférence des models avec CPU: 13th Gen Intel(R) Core(TM) i7-13620H', ha='center', color='b')\n",
        "\n",
        "sns.barplot(x='model', y='times', data=time_data, ci=None) # capsize=.2)\n",
        "plt.xlabel('')\n",
        "plt.ylabel('Inference time (ms)')\n",
        "\n",
        "# Text\n",
        "\n",
        "# Finalize the plot\n",
        "sns.despine(bottom=True)\n",
        "plt.tight_layout(h_pad=10)\n",
        "\n",
        "# Saving plot\n",
        "fig.savefig('img/inference_time.png')"
      ]
    }
  ],
  "metadata": {
    "accelerator": "GPU",
    "colab": {
      "gpuType": "T4",
      "provenance": []
    },
    "kernelspec": {
      "display_name": "Python 3",
      "name": "python3"
    },
    "language_info": {
      "codemirror_mode": {
        "name": "ipython",
        "version": 3
      },
      "file_extension": ".py",
      "mimetype": "text/x-python",
      "name": "python",
      "nbconvert_exporter": "python",
      "pygments_lexer": "ipython3",
      "version": "3.10.11"
    }
  },
  "nbformat": 4,
  "nbformat_minor": 0
}
