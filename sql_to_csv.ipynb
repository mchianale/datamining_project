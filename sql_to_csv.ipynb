{
 "cells": [
  {
   "cell_type": "code",
   "execution_count": 1,
   "metadata": {},
   "outputs": [],
   "source": [
    "import pandas as pd \n",
    "import requests "
   ]
  },
  {
   "cell_type": "code",
   "execution_count": 9,
   "metadata": {},
   "outputs": [],
   "source": [
    "BASE_URL = \"http://localhost:8000\"\n",
    "# test\n",
    "response = requests.get(f\"{BASE_URL}/health_check\")\n",
    "assert response.status_code == 200\n",
    "\n",
    "def query(sql_query):\n",
    "    data = {\"sql_query\" : sql_query}\n",
    "    response = requests.post(f\"{BASE_URL}/query\", json=data)\n",
    "    if response.status_code == 200:\n",
    "        if response:\n",
    "            return response.json()['result']"
   ]
  },
  {
   "cell_type": "markdown",
   "metadata": {},
   "source": [
    "# Création du dataset 'Films'"
   ]
  },
  {
   "cell_type": "code",
   "execution_count": 3,
   "metadata": {},
   "outputs": [
    {
     "data": {
      "text/html": [
       "<div>\n",
       "<style scoped>\n",
       "    .dataframe tbody tr th:only-of-type {\n",
       "        vertical-align: middle;\n",
       "    }\n",
       "\n",
       "    .dataframe tbody tr th {\n",
       "        vertical-align: top;\n",
       "    }\n",
       "\n",
       "    .dataframe thead th {\n",
       "        text-align: right;\n",
       "    }\n",
       "</style>\n",
       "<table border=\"1\" class=\"dataframe\">\n",
       "  <thead>\n",
       "    <tr style=\"text-align: right;\">\n",
       "      <th></th>\n",
       "      <th>id</th>\n",
       "      <th>url</th>\n",
       "      <th>titre</th>\n",
       "      <th>synopsis</th>\n",
       "      <th>public</th>\n",
       "      <th>note_presse</th>\n",
       "      <th>nb_notes_presse</th>\n",
       "      <th>nb_critiques_presse</th>\n",
       "      <th>note_spectateurs</th>\n",
       "      <th>nb_notes_spectateurs</th>\n",
       "      <th>nb_critiques_spectateurs</th>\n",
       "      <th>date</th>\n",
       "      <th>duree</th>\n",
       "      <th>distributeur</th>\n",
       "      <th>recompenses</th>\n",
       "      <th>type</th>\n",
       "      <th>box_office_france</th>\n",
       "      <th>langues</th>\n",
       "      <th>couleur</th>\n",
       "      <th>nationalite</th>\n",
       "    </tr>\n",
       "  </thead>\n",
       "  <tbody>\n",
       "    <tr>\n",
       "      <th>0</th>\n",
       "      <td>42303</td>\n",
       "      <td>https://www.allocine.fr//film/fichefilm_gen_cf...</td>\n",
       "      <td>Permis de construire</td>\n",
       "      <td>Dentiste à Paris, Romain vient de perdre son p...</td>\n",
       "      <td>None</td>\n",
       "      <td>1.8</td>\n",
       "      <td>4.0</td>\n",
       "      <td>4.0</td>\n",
       "      <td>2.5</td>\n",
       "      <td>2195.0</td>\n",
       "      <td>343.0</td>\n",
       "      <td>9-03-2022</td>\n",
       "      <td>93.0</td>\n",
       "      <td>Warner Bros. France</td>\n",
       "      <td>0</td>\n",
       "      <td>Long métrage</td>\n",
       "      <td>562816.0</td>\n",
       "      <td>Français</td>\n",
       "      <td>Couleur</td>\n",
       "      <td>France</td>\n",
       "    </tr>\n",
       "    <tr>\n",
       "      <th>1</th>\n",
       "      <td>49021</td>\n",
       "      <td>https://www.allocine.fr//film/fichefilm_gen_cf...</td>\n",
       "      <td>Nine Days</td>\n",
       "      <td>Dans une maison éloignée de la civilisation vi...</td>\n",
       "      <td>None</td>\n",
       "      <td>NaN</td>\n",
       "      <td>NaN</td>\n",
       "      <td>NaN</td>\n",
       "      <td>3.4</td>\n",
       "      <td>51.0</td>\n",
       "      <td>4.0</td>\n",
       "      <td>27-02-2022</td>\n",
       "      <td>124.0</td>\n",
       "      <td>None</td>\n",
       "      <td>0</td>\n",
       "      <td>Long métrage</td>\n",
       "      <td>NaN</td>\n",
       "      <td>Anglais</td>\n",
       "      <td>Couleur</td>\n",
       "      <td>U.S.A.</td>\n",
       "    </tr>\n",
       "  </tbody>\n",
       "</table>\n",
       "</div>"
      ],
      "text/plain": [
       "      id                                                url  \\\n",
       "0  42303  https://www.allocine.fr//film/fichefilm_gen_cf...   \n",
       "1  49021  https://www.allocine.fr//film/fichefilm_gen_cf...   \n",
       "\n",
       "                  titre                                           synopsis  \\\n",
       "0  Permis de construire  Dentiste à Paris, Romain vient de perdre son p...   \n",
       "1             Nine Days  Dans une maison éloignée de la civilisation vi...   \n",
       "\n",
       "  public  note_presse  nb_notes_presse  nb_critiques_presse  note_spectateurs  \\\n",
       "0   None          1.8              4.0                  4.0               2.5   \n",
       "1   None          NaN              NaN                  NaN               3.4   \n",
       "\n",
       "   nb_notes_spectateurs  nb_critiques_spectateurs        date  duree  \\\n",
       "0                2195.0                     343.0   9-03-2022   93.0   \n",
       "1                  51.0                       4.0  27-02-2022  124.0   \n",
       "\n",
       "          distributeur  recompenses          type  box_office_france  \\\n",
       "0  Warner Bros. France            0  Long métrage           562816.0   \n",
       "1                 None            0  Long métrage                NaN   \n",
       "\n",
       "    langues  couleur nationalite  \n",
       "0  Français  Couleur      France  \n",
       "1   Anglais  Couleur      U.S.A.  "
      ]
     },
     "execution_count": 3,
     "metadata": {},
     "output_type": "execute_result"
    }
   ],
   "source": [
    "sql_query = \"\"\"SELECT * FROM films\"\"\"\n",
    "data = query(sql_query)\n",
    "df = pd.DataFrame(data)\n",
    "df.head(2)"
   ]
  },
  {
   "cell_type": "code",
   "execution_count": 4,
   "metadata": {},
   "outputs": [],
   "source": [
    "df.to_csv('dataset/films.csv', sep='~', index=False)"
   ]
  },
  {
   "cell_type": "markdown",
   "metadata": {},
   "source": [
    "# Création du dataset 'Critiques'"
   ]
  },
  {
   "cell_type": "code",
   "execution_count": 5,
   "metadata": {},
   "outputs": [
    {
     "data": {
      "text/html": [
       "<div>\n",
       "<style scoped>\n",
       "    .dataframe tbody tr th:only-of-type {\n",
       "        vertical-align: middle;\n",
       "    }\n",
       "\n",
       "    .dataframe tbody tr th {\n",
       "        vertical-align: top;\n",
       "    }\n",
       "\n",
       "    .dataframe thead th {\n",
       "        text-align: right;\n",
       "    }\n",
       "</style>\n",
       "<table border=\"1\" class=\"dataframe\">\n",
       "  <thead>\n",
       "    <tr style=\"text-align: right;\">\n",
       "      <th></th>\n",
       "      <th>id</th>\n",
       "      <th>id_film</th>\n",
       "      <th>auteur</th>\n",
       "      <th>date</th>\n",
       "      <th>note</th>\n",
       "      <th>contenu</th>\n",
       "      <th>likes</th>\n",
       "      <th>dislikes</th>\n",
       "    </tr>\n",
       "  </thead>\n",
       "  <tbody>\n",
       "    <tr>\n",
       "      <th>0</th>\n",
       "      <td>1</td>\n",
       "      <td>274347</td>\n",
       "      <td>I&amp;#039;m A Rocket Man</td>\n",
       "      <td>17-08-2022</td>\n",
       "      <td>5.0</td>\n",
       "      <td>Oh my God ! Ce film est le meilleur que j'ai j...</td>\n",
       "      <td>1</td>\n",
       "      <td>0</td>\n",
       "    </tr>\n",
       "    <tr>\n",
       "      <th>1</th>\n",
       "      <td>2</td>\n",
       "      <td>274347</td>\n",
       "      <td>Spider cineman</td>\n",
       "      <td>4-01-2025</td>\n",
       "      <td>3.5</td>\n",
       "      <td>Drame familial lié à la drogue ça aurait pu êt...</td>\n",
       "      <td>1</td>\n",
       "      <td>0</td>\n",
       "    </tr>\n",
       "  </tbody>\n",
       "</table>\n",
       "</div>"
      ],
      "text/plain": [
       "   id  id_film                 auteur        date  note  \\\n",
       "0   1   274347  I&#039;m A Rocket Man  17-08-2022   5.0   \n",
       "1   2   274347         Spider cineman   4-01-2025   3.5   \n",
       "\n",
       "                                             contenu  likes  dislikes  \n",
       "0  Oh my God ! Ce film est le meilleur que j'ai j...      1         0  \n",
       "1  Drame familial lié à la drogue ça aurait pu êt...      1         0  "
      ]
     },
     "execution_count": 5,
     "metadata": {},
     "output_type": "execute_result"
    }
   ],
   "source": [
    "sql_query = \"\"\"SELECT * FROM critiques\"\"\"\n",
    "data = query(sql_query)\n",
    "df = pd.DataFrame(data)\n",
    "df.head(2)"
   ]
  },
  {
   "cell_type": "code",
   "execution_count": 6,
   "metadata": {},
   "outputs": [
    {
     "data": {
      "text/plain": [
       "(14014, 8)"
      ]
     },
     "execution_count": 6,
     "metadata": {},
     "output_type": "execute_result"
    }
   ],
   "source": [
    "df.shape"
   ]
  },
  {
   "cell_type": "code",
   "execution_count": 7,
   "metadata": {},
   "outputs": [],
   "source": [
    "df.to_csv('dataset/critiques.csv', sep='~', index=False)"
   ]
  },
  {
   "cell_type": "markdown",
   "metadata": {},
   "source": [
    "# Le reste"
   ]
  },
  {
   "cell_type": "code",
   "execution_count": 8,
   "metadata": {},
   "outputs": [],
   "source": [
    "table_names = ['acteurs', 'scenaristes', 'realisateurs', 'categories', 'tags']\n",
    "for table_name in table_names:\n",
    "    sql_query = f\"SELECT * FROM {table_name}\"\n",
    "    data = query(sql_query)\n",
    "    df = pd.DataFrame(data)\n",
    "    df.to_csv(f'dataset/{table_name}.csv', sep='~', index=False)"
   ]
  }
 ],
 "metadata": {
  "kernelspec": {
   "display_name": ".data_mining",
   "language": "python",
   "name": "python3"
  },
  "language_info": {
   "codemirror_mode": {
    "name": "ipython",
    "version": 3
   },
   "file_extension": ".py",
   "mimetype": "text/x-python",
   "name": "python",
   "nbconvert_exporter": "python",
   "pygments_lexer": "ipython3",
   "version": "3.10.11"
  }
 },
 "nbformat": 4,
 "nbformat_minor": 2
}
